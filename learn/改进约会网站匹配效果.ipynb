{
 "cells": [
  {
   "cell_type": "code",
   "execution_count": 2,
   "metadata": {},
   "outputs": [],
   "source": [
    "import numpy as np\n",
    "import pandas as pd\n",
    "from pandas import Series,DataFrame\n",
    "import matplotlib.pyplot as plt\n",
    "%matplotlib inline"
   ]
  },
  {
   "cell_type": "code",
   "execution_count": 12,
   "metadata": {},
   "outputs": [],
   "source": [
    "dating = pd.read_csv('./data/datingTestSet.txt',header=None,sep='\\t')"
   ]
  },
  {
   "cell_type": "code",
   "execution_count": 13,
   "metadata": {},
   "outputs": [],
   "source": [
    "from sklearn.neighbors import KNeighborsClassifier\n",
    "from sklearn.linear_model import LogisticRegression\n",
    "from sklearn.tree import DecisionTreeClassifier\n",
    "from sklearn.naive_bayes import GaussianNB\n",
    "from sklearn.svm import SVC"
   ]
  },
  {
   "cell_type": "code",
   "execution_count": 18,
   "metadata": {},
   "outputs": [],
   "source": [
    "train = dating[[0,1,2]]\n",
    "target = dating[3]"
   ]
  },
  {
   "cell_type": "code",
   "execution_count": 20,
   "metadata": {},
   "outputs": [],
   "source": [
    "from sklearn.preprocessing import Normalizer,StandardScaler,MinMaxScaler"
   ]
  },
  {
   "cell_type": "code",
   "execution_count": 23,
   "metadata": {
    "collapsed": true
   },
   "outputs": [
    {
     "data": {
      "text/plain": [
       "0      0\n",
       "1      1\n",
       "2      2\n",
       "3      2\n",
       "4      2\n",
       "5      2\n",
       "6      0\n",
       "7      0\n",
       "8      2\n",
       "9      0\n",
       "10     2\n",
       "11     2\n",
       "12     1\n",
       "13     2\n",
       "14     2\n",
       "15     2\n",
       "16     2\n",
       "17     2\n",
       "18     1\n",
       "19     0\n",
       "20     1\n",
       "21     2\n",
       "22     1\n",
       "23     0\n",
       "24     1\n",
       "25     0\n",
       "26     1\n",
       "27     0\n",
       "28     1\n",
       "29     2\n",
       "      ..\n",
       "970    0\n",
       "971    2\n",
       "972    1\n",
       "973    2\n",
       "974    1\n",
       "975    0\n",
       "976    2\n",
       "977    0\n",
       "978    1\n",
       "979    1\n",
       "980    1\n",
       "981    1\n",
       "982    1\n",
       "983    1\n",
       "984    1\n",
       "985    1\n",
       "986    1\n",
       "987    1\n",
       "988    1\n",
       "989    1\n",
       "990    0\n",
       "991    1\n",
       "992    1\n",
       "993    1\n",
       "994    1\n",
       "995    1\n",
       "996    2\n",
       "997    0\n",
       "998    0\n",
       "999    0\n",
       "Name: 3, Length: 1000, dtype: int64"
      ]
     },
     "execution_count": 23,
     "metadata": {},
     "output_type": "execute_result"
    }
   ],
   "source": [
    "# 因为喜欢程度是有关系的三种值，所以手动对其进行数字的映射\n",
    "map_dic = {\n",
    "    'largeDoses':0, \n",
    "    'smallDoses':1, \n",
    "    'didntLike':2\n",
    "}\n",
    "target = target.map(map_dic)\n",
    "target"
   ]
  },
  {
   "cell_type": "code",
   "execution_count": 24,
   "metadata": {},
   "outputs": [],
   "source": [
    "# 对特征进行无量纲化处理\n",
    "train1 = Normalizer().fit_transform(train)\n",
    "train2 = MinMaxScaler().fit_transform(train)\n",
    "train3 = StandardScaler().fit_transform(train)"
   ]
  },
  {
   "cell_type": "code",
   "execution_count": 26,
   "metadata": {},
   "outputs": [],
   "source": [
    "from sklearn.model_selection import train_test_split\n",
    "\n",
    "# 比较不同的特征处理的结果\n",
    "def split_predict_with_model(model,train,target,feature_project):\n",
    "    X_train,X_test,y_train,y_test = train_test_split(train,target,test_size=0.2,random_state=1)\n",
    "    score = model.fit(X_train,y_train).score(X_test,y_test)\n",
    "    model_name = model.__class__.__name__\n",
    "    print(\"{} 使用{}来处理特征的评分是 {}\".format(model_name,feature_project,score))"
   ]
  },
  {
   "cell_type": "code",
   "execution_count": 27,
   "metadata": {},
   "outputs": [],
   "source": [
    "knn = KNeighborsClassifier()\n",
    "logistic = LogisticRegression()\n",
    "tree = DecisionTreeClassifier()\n",
    "gaussionNB = GaussianNB()\n",
    "svc = SVC()"
   ]
  },
  {
   "cell_type": "code",
   "execution_count": 28,
   "metadata": {},
   "outputs": [],
   "source": [
    "# 比较不同模型，不同特征处理得到的结果\n",
    "def show_model_predict_results(model,train,target):\n",
    "    train1 = Normalizer().fit_transform(train)\n",
    "    train2 = MinMaxScaler().fit_transform(train)\n",
    "    train3 = StandardScaler().fit_transform(train)\n",
    "    trains = [train1,train2,train3]\n",
    "    feature_project_names = ['Normalizer','MinMaxScaler','StandardScaler']\n",
    "    for index,feature_train in enumerate(trains):\n",
    "        split_predict_with_model(model,feature_train,target,feature_project_names[index])"
   ]
  },
  {
   "cell_type": "code",
   "execution_count": 29,
   "metadata": {
    "scrolled": true
   },
   "outputs": [
    {
     "name": "stdout",
     "output_type": "stream",
     "text": [
      "KNeighborsClassifier 使用Normalizer来处理特征的评分是 0.75\n",
      "KNeighborsClassifier 使用MinMaxScaler来处理特征的评分是 0.935\n",
      "KNeighborsClassifier 使用StandardScaler来处理特征的评分是 0.935\n"
     ]
    }
   ],
   "source": [
    "show_model_predict_results(knn,train,target)"
   ]
  },
  {
   "cell_type": "code",
   "execution_count": 30,
   "metadata": {
    "scrolled": true
   },
   "outputs": [
    {
     "name": "stdout",
     "output_type": "stream",
     "text": [
      "LogisticRegression 使用Normalizer来处理特征的评分是 0.305\n",
      "LogisticRegression 使用MinMaxScaler来处理特征的评分是 0.885\n",
      "LogisticRegression 使用StandardScaler来处理特征的评分是 0.91\n"
     ]
    }
   ],
   "source": [
    "show_model_predict_results(logistic,train,target)"
   ]
  },
  {
   "cell_type": "code",
   "execution_count": 31,
   "metadata": {
    "scrolled": true
   },
   "outputs": [
    {
     "name": "stdout",
     "output_type": "stream",
     "text": [
      "DecisionTreeClassifier 使用Normalizer来处理特征的评分是 0.7\n",
      "DecisionTreeClassifier 使用MinMaxScaler来处理特征的评分是 0.96\n",
      "DecisionTreeClassifier 使用StandardScaler来处理特征的评分是 0.96\n"
     ]
    }
   ],
   "source": [
    "show_model_predict_results(tree,train,target)"
   ]
  },
  {
   "cell_type": "code",
   "execution_count": 32,
   "metadata": {
    "scrolled": true
   },
   "outputs": [
    {
     "name": "stdout",
     "output_type": "stream",
     "text": [
      "GaussianNB 使用Normalizer来处理特征的评分是 0.54\n",
      "GaussianNB 使用MinMaxScaler来处理特征的评分是 0.935\n",
      "GaussianNB 使用StandardScaler来处理特征的评分是 0.935\n"
     ]
    }
   ],
   "source": [
    "show_model_predict_results(gaussionNB,train,target)"
   ]
  },
  {
   "cell_type": "code",
   "execution_count": 33,
   "metadata": {
    "scrolled": true
   },
   "outputs": [
    {
     "name": "stdout",
     "output_type": "stream",
     "text": [
      "SVC 使用Normalizer来处理特征的评分是 0.305\n",
      "SVC 使用MinMaxScaler来处理特征的评分是 0.935\n",
      "SVC 使用StandardScaler来处理特征的评分是 0.96\n"
     ]
    }
   ],
   "source": [
    "show_model_predict_results(svc,train,target)"
   ]
  },
  {
   "cell_type": "code",
   "execution_count": 34,
   "metadata": {},
   "outputs": [],
   "source": [
    "# 结论：使用StandardScaler对特征处理评分表现更高，算法可以选择决策树模型或者SVC模型"
   ]
  },
  {
   "cell_type": "code",
   "execution_count": 41,
   "metadata": {},
   "outputs": [
    {
     "name": "stdout",
     "output_type": "stream",
     "text": [
      "DecisionTreeClassifier 使用Normalizer来处理特征的评分是 0.81\n",
      "DecisionTreeClassifier 使用MinMaxScaler来处理特征的评分是 0.96\n",
      "DecisionTreeClassifier 使用StandardScaler来处理特征的评分是 0.96\n"
     ]
    }
   ],
   "source": [
    "# 进一步对选择的算法进行参数调整\n",
    "tree = DecisionTreeClassifier(max_depth=3)\n",
    "show_model_predict_results(tree,train,target)"
   ]
  },
  {
   "cell_type": "code",
   "execution_count": 51,
   "metadata": {
    "scrolled": true
   },
   "outputs": [
    {
     "name": "stdout",
     "output_type": "stream",
     "text": [
      "SVC 使用Normalizer来处理特征的评分是 0.305\n",
      "SVC 使用MinMaxScaler来处理特征的评分是 0.965\n",
      "SVC 使用StandardScaler来处理特征的评分是 0.965\n"
     ]
    }
   ],
   "source": [
    "svc = SVC(C=100)\n",
    "show_model_predict_results(svc,train,target)"
   ]
  },
  {
   "cell_type": "code",
   "execution_count": null,
   "metadata": {},
   "outputs": [],
   "source": [
    "# 问题：算法评分有时候可能是假象，测试集上表现良好，但是在真是的预测环境下表现下滑\n",
    "# 产生原因：对算法的训练和测试太单一，"
   ]
  },
  {
   "cell_type": "code",
   "execution_count": 117,
   "metadata": {},
   "outputs": [],
   "source": [
    "def evalute_model(times,model,train,target):\n",
    "    results = []\n",
    "    for _ in range(times):\n",
    "        # 为了让训练集和测试集的拆分更加随机，不再使用random_state参数，观察不同的拆分，得到的结果\n",
    "        X_train,X_test,y_train,y_test = train_test_split(train,target,test_size=0.4,random_state=1)\n",
    "        # 一个算法好坏，除了观察算法评分之外，还应该对算法的稳定性进行评估\n",
    "        # 可以采取多次求解取方差（或者均值）\n",
    "        result = model.fit(X_train,y_train).score(X_test,y_test)\n",
    "        results.append(result)\n",
    "\n",
    "    r = np.array(results)\n",
    "    model_name = model.__class__.__name__\n",
    "    \n",
    "    print(\"{}模型，{}次预测，平均值是{}，方差是{}，最大值是{}，最小值是{}\".format(model_name,times,r.mean(),r.std(),r.max(),r.min()))"
   ]
  },
  {
   "cell_type": "code",
   "execution_count": 118,
   "metadata": {},
   "outputs": [
    {
     "name": "stdout",
     "output_type": "stream",
     "text": [
      "SVC模型，50次预测，平均值是0.9575，方差是0.0，最大值是0.9575，最小值是0.9575\n"
     ]
    }
   ],
   "source": [
    "evalute_model(50,svc,train3,target)"
   ]
  },
  {
   "cell_type": "code",
   "execution_count": 119,
   "metadata": {
    "scrolled": true
   },
   "outputs": [
    {
     "name": "stdout",
     "output_type": "stream",
     "text": [
      "DecisionTreeClassifier模型，50次预测，平均值是0.9525，方差是0.0，最大值是0.9525，最小值是0.9525\n"
     ]
    }
   ],
   "source": [
    "evalute_model(50,tree,train3,target)"
   ]
  },
  {
   "cell_type": "code",
   "execution_count": 110,
   "metadata": {},
   "outputs": [
    {
     "name": "stdout",
     "output_type": "stream",
     "text": [
      "SVC模型，50次预测，平均值是0.9666666666666667，方差是0.0，最大值是0.9666666666666667，最小值是0.9666666666666667\n"
     ]
    }
   ],
   "source": [
    "evalute_model(50,svc,train3,target)"
   ]
  },
  {
   "cell_type": "code",
   "execution_count": 113,
   "metadata": {},
   "outputs": [
    {
     "name": "stdout",
     "output_type": "stream",
     "text": [
      "DecisionTreeClassifier模型，50次预测，平均值是0.96，方差是0.0，最大值是0.96，最小值是0.96\n"
     ]
    }
   ],
   "source": [
    "evalute_model(50,tree,train3,target)"
   ]
  },
  {
   "cell_type": "code",
   "execution_count": 120,
   "metadata": {},
   "outputs": [],
   "source": [
    "# 使用机器学习的交叉验证来解决样本集不均衡导致的偶然性问题\n",
    "from sklearn.model_selection import cross_val_score,cross_val_predict\n",
    "# KFold是用于拆分数据集的一个类\n",
    "from sklearn.model_selection import KFold"
   ]
  },
  {
   "cell_type": "code",
   "execution_count": 132,
   "metadata": {},
   "outputs": [],
   "source": [
    "# 使用交叉验证来测量不同的算法评分指标\n",
    "def cross_score_result(model,train,target):\n",
    "    # n_splits 数据集分类的份数\n",
    "    kfold = KFold(n_splits=10,shuffle=True)\n",
    "\n",
    "    \n",
    "    # 参数一：要进行交叉验证的算法模型\n",
    "    # 参数二、三：要进行拆分的数据特征集合和标签集合\n",
    "    # 参数三:kfold对象，描述了数据集如何进行拆分\n",
    "    # 返回值：多次预测的算法评分\n",
    "    scores = cross_val_score(model,train,target,cv=kfold)\n",
    "    model_name = model.__class__.__name__\n",
    "    print(\"{}模型 方差:{},均值:{},最大值:{},最小值{}\".format(model_name,scores.std(),scores.mean(),scores.max(),scores.min()))"
   ]
  },
  {
   "cell_type": "code",
   "execution_count": 133,
   "metadata": {},
   "outputs": [
    {
     "name": "stdout",
     "output_type": "stream",
     "text": [
      "SVC模型 方差:0.019209372712298528,均值:0.9490000000000001,最大值:0.98,最小值0.91\n"
     ]
    }
   ],
   "source": [
    "cross_score_result(svc,train3,target)"
   ]
  },
  {
   "cell_type": "code",
   "execution_count": 134,
   "metadata": {},
   "outputs": [
    {
     "name": "stdout",
     "output_type": "stream",
     "text": [
      "DecisionTreeClassifier模型 方差:0.016881943016134125,均值:0.9550000000000001,最大值:0.98,最小值0.92\n"
     ]
    }
   ],
   "source": [
    "cross_score_result(tree,train3,target)"
   ]
  },
  {
   "cell_type": "code",
   "execution_count": 137,
   "metadata": {},
   "outputs": [
    {
     "name": "stdout",
     "output_type": "stream",
     "text": [
      "KNeighborsClassifier模型 方差:0.019078784028338885,均值:0.946,最大值:0.98,最小值0.93\n"
     ]
    }
   ],
   "source": [
    "cross_score_result(knn,train3,target)"
   ]
  },
  {
   "cell_type": "code",
   "execution_count": 138,
   "metadata": {},
   "outputs": [
    {
     "name": "stdout",
     "output_type": "stream",
     "text": [
      "LogisticRegression模型 方差:0.02879236009777594,均值:0.909,最大值:0.94,最小值0.84\n"
     ]
    }
   ],
   "source": [
    "cross_score_result(logistic,train3,target)"
   ]
  },
  {
   "cell_type": "code",
   "execution_count": 139,
   "metadata": {},
   "outputs": [
    {
     "name": "stdout",
     "output_type": "stream",
     "text": [
      "GaussianNB模型 方差:0.03041381265149108,均值:0.9350000000000002,最大值:0.98,最小值0.87\n"
     ]
    }
   ],
   "source": [
    "cross_score_result(gaussionNB,train3,target)"
   ]
  },
  {
   "cell_type": "code",
   "execution_count": 140,
   "metadata": {},
   "outputs": [
    {
     "name": "stdout",
     "output_type": "stream",
     "text": [
      "SVC模型 方差:0.017320508075688763,均值:0.9600000000000002,最大值:0.98,最小值0.92\n"
     ]
    }
   ],
   "source": [
    "cross_score_result(svc,train2,target)"
   ]
  },
  {
   "cell_type": "code",
   "execution_count": 141,
   "metadata": {},
   "outputs": [
    {
     "name": "stdout",
     "output_type": "stream",
     "text": [
      "SVC模型 方差:0.03935733730830885,均值:0.329,最大值:0.38,最小值0.26\n"
     ]
    }
   ],
   "source": [
    "cross_score_result(svc,train1,target)"
   ]
  },
  {
   "cell_type": "code",
   "execution_count": 142,
   "metadata": {},
   "outputs": [
    {
     "name": "stdout",
     "output_type": "stream",
     "text": [
      "DecisionTreeClassifier模型 方差:0.026381811916545813,均值:0.9480000000000001,最大值:0.98,最小值0.91\n"
     ]
    }
   ],
   "source": [
    "cross_score_result(tree,train2,target)"
   ]
  }
 ],
 "metadata": {
  "kernelspec": {
   "display_name": "Python 3",
   "language": "python",
   "name": "python3"
  },
  "language_info": {
   "codemirror_mode": {
    "name": "ipython",
    "version": 3
   },
   "file_extension": ".py",
   "mimetype": "text/x-python",
   "name": "python",
   "nbconvert_exporter": "python",
   "pygments_lexer": "ipython3",
   "version": "3.6.2"
  }
 },
 "nbformat": 4,
 "nbformat_minor": 2
}
