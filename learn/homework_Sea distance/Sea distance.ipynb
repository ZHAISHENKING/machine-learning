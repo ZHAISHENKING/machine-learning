{
 "cells": [
  {
   "cell_type": "markdown",
   "metadata": {},
   "source": [
    "# 城市气候与海洋的关系研究"
   ]
  },
  {
   "cell_type": "markdown",
   "metadata": {},
   "source": [
    "导入包"
   ]
  },
  {
   "cell_type": "code",
   "execution_count": 1,
   "metadata": {},
   "outputs": [],
   "source": [
    "import numpy as np\n",
    "import pandas as pd\n",
    "from pandas import Series,DataFrame\n",
    "import matplotlib.pyplot as plt\n",
    "%matplotlib inline"
   ]
  },
  {
   "cell_type": "markdown",
   "metadata": {},
   "source": [
    "导入数据各个海滨城市数据"
   ]
  },
  {
   "cell_type": "code",
   "execution_count": 2,
   "metadata": {},
   "outputs": [],
   "source": [
    "ferrara1 = pd.read_csv('./ferrara_150715.csv')\n",
    "ferrara2 = pd.read_csv('./ferrara_250715.csv')\n",
    "ferrara3 = pd.read_csv('./ferrara_270615.csv')\n",
    "ferrara = pd.concat([ferrara1,ferrara2,ferrara3],ignore_index=True) "
   ]
  },
  {
   "cell_type": "code",
   "execution_count": 5,
   "metadata": {},
   "outputs": [
    {
     "data": {
      "text/plain": [
       "(68, 11)"
      ]
     },
     "execution_count": 5,
     "metadata": {},
     "output_type": "execute_result"
    }
   ],
   "source": [
    "ferrara.shape"
   ]
  },
  {
   "cell_type": "code",
   "execution_count": 6,
   "metadata": {},
   "outputs": [],
   "source": [
    "torino1 = pd.read_csv('./torino_150715.csv')\n",
    "torino2 = pd.read_csv('./torino_250715.csv')\n",
    "torino3 = pd.read_csv('./torino_270615.csv')\n",
    "torino = pd.concat([torino1,torino2,torino3],ignore_index=True) "
   ]
  },
  {
   "cell_type": "code",
   "execution_count": 7,
   "metadata": {},
   "outputs": [
    {
     "data": {
      "text/plain": [
       "(68, 11)"
      ]
     },
     "execution_count": 7,
     "metadata": {},
     "output_type": "execute_result"
    }
   ],
   "source": [
    "torino.shape"
   ]
  },
  {
   "cell_type": "code",
   "execution_count": 8,
   "metadata": {},
   "outputs": [],
   "source": [
    "mantova1 = pd.read_csv('./mantova_150715.csv')\n",
    "mantova2 = pd.read_csv('./mantova_250715.csv')\n",
    "mantova3 = pd.read_csv('./mantova_270615.csv')\n",
    "mantova = pd.concat([mantova1,mantova2,mantova3],ignore_index=True) "
   ]
  },
  {
   "cell_type": "code",
   "execution_count": 9,
   "metadata": {},
   "outputs": [
    {
     "data": {
      "text/plain": [
       "(68, 11)"
      ]
     },
     "execution_count": 9,
     "metadata": {},
     "output_type": "execute_result"
    }
   ],
   "source": [
    "mantova.shape"
   ]
  },
  {
   "cell_type": "code",
   "execution_count": 10,
   "metadata": {},
   "outputs": [],
   "source": [
    "milano1 = pd.read_csv('./milano_150715.csv')\n",
    "milano2 = pd.read_csv('./milano_250715.csv')\n",
    "milano3 = pd.read_csv('./milano_270615.csv')\n",
    "milano = pd.concat([milano1,milano2,milano3],ignore_index=True) "
   ]
  },
  {
   "cell_type": "code",
   "execution_count": 12,
   "metadata": {
    "collapsed": true
   },
   "outputs": [
    {
     "data": {
      "text/html": [
       "<div>\n",
       "<style scoped>\n",
       "    .dataframe tbody tr th:only-of-type {\n",
       "        vertical-align: middle;\n",
       "    }\n",
       "\n",
       "    .dataframe tbody tr th {\n",
       "        vertical-align: top;\n",
       "    }\n",
       "\n",
       "    .dataframe thead th {\n",
       "        text-align: right;\n",
       "    }\n",
       "</style>\n",
       "<table border=\"1\" class=\"dataframe\">\n",
       "  <thead>\n",
       "    <tr style=\"text-align: right;\">\n",
       "      <th></th>\n",
       "      <th>Unnamed: 0</th>\n",
       "      <th>temp</th>\n",
       "      <th>humidity</th>\n",
       "      <th>pressure</th>\n",
       "      <th>description</th>\n",
       "      <th>dt</th>\n",
       "      <th>wind_speed</th>\n",
       "      <th>wind_deg</th>\n",
       "      <th>city</th>\n",
       "      <th>day</th>\n",
       "      <th>dist</th>\n",
       "    </tr>\n",
       "  </thead>\n",
       "  <tbody>\n",
       "    <tr>\n",
       "      <th>0</th>\n",
       "      <td>0</td>\n",
       "      <td>28.57</td>\n",
       "      <td>54</td>\n",
       "      <td>1016</td>\n",
       "      <td>Sky is Clear</td>\n",
       "      <td>1436863175</td>\n",
       "      <td>2.1</td>\n",
       "      <td>100</td>\n",
       "      <td>Milano</td>\n",
       "      <td>2015-07-14 10:39:35</td>\n",
       "      <td>250</td>\n",
       "    </tr>\n",
       "    <tr>\n",
       "      <th>1</th>\n",
       "      <td>1</td>\n",
       "      <td>29.74</td>\n",
       "      <td>48</td>\n",
       "      <td>1016</td>\n",
       "      <td>Sky is Clear</td>\n",
       "      <td>1436866758</td>\n",
       "      <td>2.6</td>\n",
       "      <td>0</td>\n",
       "      <td>Milano</td>\n",
       "      <td>2015-07-14 11:39:18</td>\n",
       "      <td>250</td>\n",
       "    </tr>\n",
       "    <tr>\n",
       "      <th>2</th>\n",
       "      <td>2</td>\n",
       "      <td>31.12</td>\n",
       "      <td>48</td>\n",
       "      <td>1016</td>\n",
       "      <td>Sky is Clear</td>\n",
       "      <td>1436870509</td>\n",
       "      <td>2.6</td>\n",
       "      <td>140</td>\n",
       "      <td>Milano</td>\n",
       "      <td>2015-07-14 12:41:49</td>\n",
       "      <td>250</td>\n",
       "    </tr>\n",
       "    <tr>\n",
       "      <th>3</th>\n",
       "      <td>3</td>\n",
       "      <td>32.16</td>\n",
       "      <td>45</td>\n",
       "      <td>1015</td>\n",
       "      <td>Sky is Clear</td>\n",
       "      <td>1436874098</td>\n",
       "      <td>2.1</td>\n",
       "      <td>0</td>\n",
       "      <td>Milano</td>\n",
       "      <td>2015-07-14 13:41:38</td>\n",
       "      <td>250</td>\n",
       "    </tr>\n",
       "    <tr>\n",
       "      <th>4</th>\n",
       "      <td>4</td>\n",
       "      <td>33.59</td>\n",
       "      <td>43</td>\n",
       "      <td>1015</td>\n",
       "      <td>Sky is Clear</td>\n",
       "      <td>1436877644</td>\n",
       "      <td>3.1</td>\n",
       "      <td>80</td>\n",
       "      <td>Milano</td>\n",
       "      <td>2015-07-14 14:40:44</td>\n",
       "      <td>250</td>\n",
       "    </tr>\n",
       "  </tbody>\n",
       "</table>\n",
       "</div>"
      ],
      "text/plain": [
       "   Unnamed: 0   temp  humidity  pressure   description          dt  \\\n",
       "0           0  28.57        54      1016  Sky is Clear  1436863175   \n",
       "1           1  29.74        48      1016  Sky is Clear  1436866758   \n",
       "2           2  31.12        48      1016  Sky is Clear  1436870509   \n",
       "3           3  32.16        45      1015  Sky is Clear  1436874098   \n",
       "4           4  33.59        43      1015  Sky is Clear  1436877644   \n",
       "\n",
       "   wind_speed  wind_deg    city                  day  dist  \n",
       "0         2.1       100  Milano  2015-07-14 10:39:35   250  \n",
       "1         2.6         0  Milano  2015-07-14 11:39:18   250  \n",
       "2         2.6       140  Milano  2015-07-14 12:41:49   250  \n",
       "3         2.1         0  Milano  2015-07-14 13:41:38   250  \n",
       "4         3.1        80  Milano  2015-07-14 14:40:44   250  "
      ]
     },
     "execution_count": 12,
     "metadata": {},
     "output_type": "execute_result"
    }
   ],
   "source": [
    "milano.head()"
   ]
  },
  {
   "cell_type": "code",
   "execution_count": 13,
   "metadata": {},
   "outputs": [],
   "source": [
    "ravenna1 = pd.read_csv('./ravenna_150715.csv')\n",
    "ravenna2 = pd.read_csv('./ravenna_250715.csv')\n",
    "ravenna3 = pd.read_csv('./ravenna_270615.csv')\n",
    "ravenna = pd.concat([ravenna1,ravenna2,ravenna3],ignore_index=True)"
   ]
  },
  {
   "cell_type": "code",
   "execution_count": 14,
   "metadata": {},
   "outputs": [],
   "source": [
    "asti1 = pd.read_csv('./asti_150715.csv')\n",
    "asti2 = pd.read_csv('./asti_250715.csv')\n",
    "asti3 = pd.read_csv('./asti_270615.csv')\n",
    "asti = pd.concat([asti1,asti2,asti3],ignore_index=True)"
   ]
  },
  {
   "cell_type": "code",
   "execution_count": 15,
   "metadata": {},
   "outputs": [],
   "source": [
    "bologna1 = pd.read_csv('./bologna_150715.csv')\n",
    "bologna2 = pd.read_csv('./bologna_250715.csv')\n",
    "bologna3 = pd.read_csv('./bologna_270615.csv')\n",
    "bologna = pd.concat([bologna1,bologna2,bologna3],ignore_index=True)"
   ]
  },
  {
   "cell_type": "code",
   "execution_count": 16,
   "metadata": {},
   "outputs": [],
   "source": [
    "piacenza1 = pd.read_csv('./piacenza_150715.csv')\n",
    "piacenza2 = pd.read_csv('./piacenza_250715.csv')\n",
    "piacenza3 = pd.read_csv('./piacenza_270615.csv')\n",
    "piacenza = pd.concat([piacenza1,piacenza2,piacenza3],ignore_index=True)"
   ]
  },
  {
   "cell_type": "code",
   "execution_count": 17,
   "metadata": {},
   "outputs": [],
   "source": [
    "cesena1 = pd.read_csv('./cesena_150715.csv')\n",
    "cesena2 = pd.read_csv('./cesena_250715.csv')\n",
    "cesena3 = pd.read_csv('./cesena_270615.csv')\n",
    "cesena = pd.concat([cesena1,cesena2,cesena3],ignore_index=True)"
   ]
  },
  {
   "cell_type": "code",
   "execution_count": 19,
   "metadata": {},
   "outputs": [],
   "source": [
    "faenza1 = pd.read_csv('./faenza_150715.csv')\n",
    "faenza2 = pd.read_csv('./faenza_250715.csv')\n",
    "faenza3 = pd.read_csv('./faenza_270615.csv')\n",
    "faenza = pd.concat([faenza1,faenza2,faenza3],ignore_index=True)"
   ]
  },
  {
   "cell_type": "markdown",
   "metadata": {},
   "source": [
    "查看列数"
   ]
  },
  {
   "cell_type": "code",
   "execution_count": 20,
   "metadata": {},
   "outputs": [
    {
     "data": {
      "text/plain": [
       "Index(['Unnamed: 0', 'temp', 'humidity', 'pressure', 'description', 'dt',\n",
       "       'wind_speed', 'wind_deg', 'city', 'day', 'dist'],\n",
       "      dtype='object')"
      ]
     },
     "execution_count": 20,
     "metadata": {},
     "output_type": "execute_result"
    }
   ],
   "source": [
    "faenza.columns"
   ]
  },
  {
   "cell_type": "markdown",
   "metadata": {},
   "source": [
    "去除没用的列"
   ]
  },
  {
   "cell_type": "code",
   "execution_count": null,
   "metadata": {},
   "outputs": [],
   "source": [
    "drop\n",
    "dropna\n",
    "drop_duplicates"
   ]
  },
  {
   "cell_type": "code",
   "execution_count": 21,
   "metadata": {},
   "outputs": [],
   "source": [
    "citys = [ferrara,torino,mantova,milano,ravenna,asti,bologna,piacenza,cesena,faenza]"
   ]
  },
  {
   "cell_type": "code",
   "execution_count": 23,
   "metadata": {},
   "outputs": [],
   "source": [
    "for city in citys:\n",
    "    city.drop('Unnamed: 0',axis=1,inplace=True)"
   ]
  },
  {
   "cell_type": "code",
   "execution_count": 24,
   "metadata": {
    "collapsed": true
   },
   "outputs": [
    {
     "data": {
      "text/html": [
       "<div>\n",
       "<style scoped>\n",
       "    .dataframe tbody tr th:only-of-type {\n",
       "        vertical-align: middle;\n",
       "    }\n",
       "\n",
       "    .dataframe tbody tr th {\n",
       "        vertical-align: top;\n",
       "    }\n",
       "\n",
       "    .dataframe thead th {\n",
       "        text-align: right;\n",
       "    }\n",
       "</style>\n",
       "<table border=\"1\" class=\"dataframe\">\n",
       "  <thead>\n",
       "    <tr style=\"text-align: right;\">\n",
       "      <th></th>\n",
       "      <th>temp</th>\n",
       "      <th>humidity</th>\n",
       "      <th>pressure</th>\n",
       "      <th>description</th>\n",
       "      <th>dt</th>\n",
       "      <th>wind_speed</th>\n",
       "      <th>wind_deg</th>\n",
       "      <th>city</th>\n",
       "      <th>day</th>\n",
       "      <th>dist</th>\n",
       "    </tr>\n",
       "  </thead>\n",
       "  <tbody>\n",
       "    <tr>\n",
       "      <th>0</th>\n",
       "      <td>30.44</td>\n",
       "      <td>60</td>\n",
       "      <td>1011.0</td>\n",
       "      <td>moderate rain</td>\n",
       "      <td>1436863096</td>\n",
       "      <td>1.03</td>\n",
       "      <td>180.0</td>\n",
       "      <td>Ferrara</td>\n",
       "      <td>2015-07-14 10:38:16</td>\n",
       "      <td>47</td>\n",
       "    </tr>\n",
       "    <tr>\n",
       "      <th>1</th>\n",
       "      <td>31.40</td>\n",
       "      <td>58</td>\n",
       "      <td>1011.0</td>\n",
       "      <td>moderate rain</td>\n",
       "      <td>1436866685</td>\n",
       "      <td>1.54</td>\n",
       "      <td>135.0</td>\n",
       "      <td>Ferrara</td>\n",
       "      <td>2015-07-14 11:38:05</td>\n",
       "      <td>47</td>\n",
       "    </tr>\n",
       "    <tr>\n",
       "      <th>2</th>\n",
       "      <td>31.95</td>\n",
       "      <td>54</td>\n",
       "      <td>1011.0</td>\n",
       "      <td>moderate rain</td>\n",
       "      <td>1436870387</td>\n",
       "      <td>0.51</td>\n",
       "      <td>113.0</td>\n",
       "      <td>Ferrara</td>\n",
       "      <td>2015-07-14 12:39:47</td>\n",
       "      <td>47</td>\n",
       "    </tr>\n",
       "    <tr>\n",
       "      <th>3</th>\n",
       "      <td>32.06</td>\n",
       "      <td>50</td>\n",
       "      <td>1011.0</td>\n",
       "      <td>moderate rain</td>\n",
       "      <td>1436873989</td>\n",
       "      <td>2.06</td>\n",
       "      <td>90.0</td>\n",
       "      <td>Ferrara</td>\n",
       "      <td>2015-07-14 13:39:49</td>\n",
       "      <td>47</td>\n",
       "    </tr>\n",
       "    <tr>\n",
       "      <th>4</th>\n",
       "      <td>32.63</td>\n",
       "      <td>49</td>\n",
       "      <td>1010.0</td>\n",
       "      <td>moderate rain</td>\n",
       "      <td>1436877535</td>\n",
       "      <td>1.54</td>\n",
       "      <td>68.0</td>\n",
       "      <td>Ferrara</td>\n",
       "      <td>2015-07-14 14:38:55</td>\n",
       "      <td>47</td>\n",
       "    </tr>\n",
       "  </tbody>\n",
       "</table>\n",
       "</div>"
      ],
      "text/plain": [
       "    temp  humidity  pressure    description          dt  wind_speed  wind_deg  \\\n",
       "0  30.44        60    1011.0  moderate rain  1436863096        1.03     180.0   \n",
       "1  31.40        58    1011.0  moderate rain  1436866685        1.54     135.0   \n",
       "2  31.95        54    1011.0  moderate rain  1436870387        0.51     113.0   \n",
       "3  32.06        50    1011.0  moderate rain  1436873989        2.06      90.0   \n",
       "4  32.63        49    1010.0  moderate rain  1436877535        1.54      68.0   \n",
       "\n",
       "      city                  day  dist  \n",
       "0  Ferrara  2015-07-14 10:38:16    47  \n",
       "1  Ferrara  2015-07-14 11:38:05    47  \n",
       "2  Ferrara  2015-07-14 12:39:47    47  \n",
       "3  Ferrara  2015-07-14 13:39:49    47  \n",
       "4  Ferrara  2015-07-14 14:38:55    47  "
      ]
     },
     "execution_count": 24,
     "metadata": {},
     "output_type": "execute_result"
    }
   ],
   "source": [
    "ferrara.head()"
   ]
  },
  {
   "cell_type": "markdown",
   "metadata": {},
   "source": [
    "显示最高温度与离海远近的关系"
   ]
  },
  {
   "cell_type": "code",
   "execution_count": 25,
   "metadata": {},
   "outputs": [
    {
     "data": {
      "text/html": [
       "<div>\n",
       "<style scoped>\n",
       "    .dataframe tbody tr th:only-of-type {\n",
       "        vertical-align: middle;\n",
       "    }\n",
       "\n",
       "    .dataframe tbody tr th {\n",
       "        vertical-align: top;\n",
       "    }\n",
       "\n",
       "    .dataframe thead th {\n",
       "        text-align: right;\n",
       "    }\n",
       "</style>\n",
       "<table border=\"1\" class=\"dataframe\">\n",
       "  <thead>\n",
       "    <tr style=\"text-align: right;\">\n",
       "      <th></th>\n",
       "      <th>temp</th>\n",
       "      <th>humidity</th>\n",
       "      <th>pressure</th>\n",
       "      <th>description</th>\n",
       "      <th>dt</th>\n",
       "      <th>wind_speed</th>\n",
       "      <th>wind_deg</th>\n",
       "      <th>city</th>\n",
       "      <th>day</th>\n",
       "      <th>dist</th>\n",
       "    </tr>\n",
       "  </thead>\n",
       "  <tbody>\n",
       "  </tbody>\n",
       "</table>\n",
       "</div>"
      ],
      "text/plain": [
       "Empty DataFrame\n",
       "Columns: [temp, humidity, pressure, description, dt, wind_speed, wind_deg, city, day, dist]\n",
       "Index: []"
      ]
     },
     "execution_count": 25,
     "metadata": {},
     "output_type": "execute_result"
    }
   ],
   "source": [
    "ferrara.head(0)"
   ]
  },
  {
   "cell_type": "code",
   "execution_count": 26,
   "metadata": {},
   "outputs": [],
   "source": [
    "max_temps = []\n",
    "distances = []\n",
    "for city in citys:\n",
    "    max_temps.append(city['temp'].max())\n",
    "    distances.append(city['dist'].mean())"
   ]
  },
  {
   "cell_type": "code",
   "execution_count": 31,
   "metadata": {},
   "outputs": [
    {
     "data": {
      "text/plain": [
       "[47.0, 357.0, 121.0, 250.0, 8.0, 315.0, 71.0, 200.0, 14.0, 37.0]"
      ]
     },
     "execution_count": 31,
     "metadata": {},
     "output_type": "execute_result"
    }
   ],
   "source": [
    "distances"
   ]
  },
  {
   "cell_type": "code",
   "execution_count": 33,
   "metadata": {},
   "outputs": [
    {
     "data": {
      "text/plain": [
       "<matplotlib.collections.PathCollection at 0x1d1530dd860>"
      ]
     },
     "execution_count": 33,
     "metadata": {},
     "output_type": "execute_result"
    },
    {
     "data": {
      "image/png": "[encoded data removed]",
      "text/plain": [
       "<matplotlib.figure.Figure at 0x1d152fc8978>"
      ]
     },
     "metadata": {},
     "output_type": "display_data"
    }
   ],
   "source": [
    "plt.scatter(distances,max_temps)"
   ]
  },
  {
   "cell_type": "code",
   "execution_count": 34,
   "metadata": {},
   "outputs": [],
   "source": [
    "# 把距离按照从小到大进行排序，使用线性图来查看结果\n",
    "df = DataFrame(data = {\n",
    "    'temp':max_temps,\n",
    "    'distance':distances\n",
    "})"
   ]
  },
  {
   "cell_type": "code",
   "execution_count": 36,
   "metadata": {},
   "outputs": [],
   "source": [
    "sort_df = df.sort_values('distance')"
   ]
  },
  {
   "cell_type": "code",
   "execution_count": 38,
   "metadata": {
    "collapsed": true
   },
   "outputs": [
    {
     "data": {
      "text/html": [
       "<div>\n",
       "<style scoped>\n",
       "    .dataframe tbody tr th:only-of-type {\n",
       "        vertical-align: middle;\n",
       "    }\n",
       "\n",
       "    .dataframe tbody tr th {\n",
       "        vertical-align: top;\n",
       "    }\n",
       "\n",
       "    .dataframe thead th {\n",
       "        text-align: right;\n",
       "    }\n",
       "</style>\n",
       "<table border=\"1\" class=\"dataframe\">\n",
       "  <thead>\n",
       "    <tr style=\"text-align: right;\">\n",
       "      <th></th>\n",
       "      <th>distance</th>\n",
       "      <th>temp</th>\n",
       "    </tr>\n",
       "  </thead>\n",
       "  <tbody>\n",
       "    <tr>\n",
       "      <th>0</th>\n",
       "      <td>47.0</td>\n",
       "      <td>33.43</td>\n",
       "    </tr>\n",
       "    <tr>\n",
       "      <th>1</th>\n",
       "      <td>357.0</td>\n",
       "      <td>34.69</td>\n",
       "    </tr>\n",
       "    <tr>\n",
       "      <th>2</th>\n",
       "      <td>121.0</td>\n",
       "      <td>34.18</td>\n",
       "    </tr>\n",
       "    <tr>\n",
       "      <th>3</th>\n",
       "      <td>250.0</td>\n",
       "      <td>34.81</td>\n",
       "    </tr>\n",
       "    <tr>\n",
       "      <th>4</th>\n",
       "      <td>8.0</td>\n",
       "      <td>32.79</td>\n",
       "    </tr>\n",
       "    <tr>\n",
       "      <th>5</th>\n",
       "      <td>315.0</td>\n",
       "      <td>34.31</td>\n",
       "    </tr>\n",
       "    <tr>\n",
       "      <th>6</th>\n",
       "      <td>71.0</td>\n",
       "      <td>33.85</td>\n",
       "    </tr>\n",
       "    <tr>\n",
       "      <th>7</th>\n",
       "      <td>200.0</td>\n",
       "      <td>33.92</td>\n",
       "    </tr>\n",
       "    <tr>\n",
       "      <th>8</th>\n",
       "      <td>14.0</td>\n",
       "      <td>32.81</td>\n",
       "    </tr>\n",
       "    <tr>\n",
       "      <th>9</th>\n",
       "      <td>37.0</td>\n",
       "      <td>32.74</td>\n",
       "    </tr>\n",
       "  </tbody>\n",
       "</table>\n",
       "</div>"
      ],
      "text/plain": [
       "   distance   temp\n",
       "0      47.0  33.43\n",
       "1     357.0  34.69\n",
       "2     121.0  34.18\n",
       "3     250.0  34.81\n",
       "4       8.0  32.79\n",
       "5     315.0  34.31\n",
       "6      71.0  33.85\n",
       "7     200.0  33.92\n",
       "8      14.0  32.81\n",
       "9      37.0  32.74"
      ]
     },
     "execution_count": 38,
     "metadata": {},
     "output_type": "execute_result"
    }
   ],
   "source": [
    "df"
   ]
  },
  {
   "cell_type": "code",
   "execution_count": 37,
   "metadata": {
    "collapsed": true
   },
   "outputs": [
    {
     "data": {
      "text/html": [
       "<div>\n",
       "<style scoped>\n",
       "    .dataframe tbody tr th:only-of-type {\n",
       "        vertical-align: middle;\n",
       "    }\n",
       "\n",
       "    .dataframe tbody tr th {\n",
       "        vertical-align: top;\n",
       "    }\n",
       "\n",
       "    .dataframe thead th {\n",
       "        text-align: right;\n",
       "    }\n",
       "</style>\n",
       "<table border=\"1\" class=\"dataframe\">\n",
       "  <thead>\n",
       "    <tr style=\"text-align: right;\">\n",
       "      <th></th>\n",
       "      <th>distance</th>\n",
       "      <th>temp</th>\n",
       "    </tr>\n",
       "  </thead>\n",
       "  <tbody>\n",
       "    <tr>\n",
       "      <th>4</th>\n",
       "      <td>8.0</td>\n",
       "      <td>32.79</td>\n",
       "    </tr>\n",
       "    <tr>\n",
       "      <th>8</th>\n",
       "      <td>14.0</td>\n",
       "      <td>32.81</td>\n",
       "    </tr>\n",
       "    <tr>\n",
       "      <th>9</th>\n",
       "      <td>37.0</td>\n",
       "      <td>32.74</td>\n",
       "    </tr>\n",
       "    <tr>\n",
       "      <th>0</th>\n",
       "      <td>47.0</td>\n",
       "      <td>33.43</td>\n",
       "    </tr>\n",
       "    <tr>\n",
       "      <th>6</th>\n",
       "      <td>71.0</td>\n",
       "      <td>33.85</td>\n",
       "    </tr>\n",
       "    <tr>\n",
       "      <th>2</th>\n",
       "      <td>121.0</td>\n",
       "      <td>34.18</td>\n",
       "    </tr>\n",
       "    <tr>\n",
       "      <th>7</th>\n",
       "      <td>200.0</td>\n",
       "      <td>33.92</td>\n",
       "    </tr>\n",
       "    <tr>\n",
       "      <th>3</th>\n",
       "      <td>250.0</td>\n",
       "      <td>34.81</td>\n",
       "    </tr>\n",
       "    <tr>\n",
       "      <th>5</th>\n",
       "      <td>315.0</td>\n",
       "      <td>34.31</td>\n",
       "    </tr>\n",
       "    <tr>\n",
       "      <th>1</th>\n",
       "      <td>357.0</td>\n",
       "      <td>34.69</td>\n",
       "    </tr>\n",
       "  </tbody>\n",
       "</table>\n",
       "</div>"
      ],
      "text/plain": [
       "   distance   temp\n",
       "4       8.0  32.79\n",
       "8      14.0  32.81\n",
       "9      37.0  32.74\n",
       "0      47.0  33.43\n",
       "6      71.0  33.85\n",
       "2     121.0  34.18\n",
       "7     200.0  33.92\n",
       "3     250.0  34.81\n",
       "5     315.0  34.31\n",
       "1     357.0  34.69"
      ]
     },
     "execution_count": 37,
     "metadata": {},
     "output_type": "execute_result"
    }
   ],
   "source": [
    "sort_df"
   ]
  },
  {
   "cell_type": "code",
   "execution_count": 40,
   "metadata": {
    "collapsed": true
   },
   "outputs": [
    {
     "data": {
      "text/plain": [
       "[<matplotlib.lines.Line2D at 0x1d152905b00>]"
      ]
     },
     "execution_count": 40,
     "metadata": {},
     "output_type": "execute_result"
    },
    {
     "data": {
      "image/png": "[encoded data removed]",
      "text/plain": [
       "<matplotlib.figure.Figure at 0x1d152691748>"
      ]
     },
     "metadata": {},
     "output_type": "display_data"
    }
   ],
   "source": [
    "plt.plot(sort_df.distance,sort_df.temp)"
   ]
  },
  {
   "cell_type": "markdown",
   "metadata": {},
   "source": [
    "观察发现，离海近的可以形成一条直线，离海远的也能形成一条直线。\n",
    "\n",
    "首先使用numpy：把列表转换为numpy数组，用于后续计算。\n",
    "\n",
    "分别以100公里和50公里为分界点，划分为离海近和离海远的两组数据"
   ]
  },
  {
   "cell_type": "code",
   "execution_count": 43,
   "metadata": {},
   "outputs": [],
   "source": [
    "temps_np = np.array(max_temps)\n",
    "dist_np = np.array(distances)"
   ]
  },
  {
   "cell_type": "code",
   "execution_count": 73,
   "metadata": {},
   "outputs": [],
   "source": [
    "# 近海城市\n",
    "near_dists = dist_np[dist_np<100]\n",
    "near_temps = temps_np[dist_np<100]\n",
    "\n",
    "# 远海城市\n",
    "far_dists = dist_np[dist_np>50]\n",
    "far_temps = temps_np[dist_np>50]"
   ]
  },
  {
   "cell_type": "code",
   "execution_count": 45,
   "metadata": {
    "scrolled": true
   },
   "outputs": [
    {
     "data": {
      "text/plain": [
       "array([47.,  8., 71., 14., 37.])"
      ]
     },
     "metadata": {},
     "output_type": "display_data"
    },
    {
     "data": {
      "text/plain": [
       "array([33.43, 32.79, 33.85, 32.81, 32.74])"
      ]
     },
     "metadata": {},
     "output_type": "display_data"
    }
   ],
   "source": [
    "display(near_dists,near_temps)"
   ]
  },
  {
   "cell_type": "code",
   "execution_count": 47,
   "metadata": {
    "scrolled": true
   },
   "outputs": [
    {
     "data": {
      "text/plain": [
       "array([357., 121., 250., 315.,  71., 200.])"
      ]
     },
     "metadata": {},
     "output_type": "display_data"
    },
    {
     "data": {
      "text/plain": [
       "array([34.69, 34.18, 34.81, 34.31, 33.85, 33.92])"
      ]
     },
     "metadata": {},
     "output_type": "display_data"
    }
   ],
   "source": [
    "display(far_dists,far_temps)"
   ]
  },
  {
   "cell_type": "code",
   "execution_count": 48,
   "metadata": {
    "collapsed": true
   },
   "outputs": [
    {
     "data": {
      "text/html": [
       "<div>\n",
       "<style scoped>\n",
       "    .dataframe tbody tr th:only-of-type {\n",
       "        vertical-align: middle;\n",
       "    }\n",
       "\n",
       "    .dataframe tbody tr th {\n",
       "        vertical-align: top;\n",
       "    }\n",
       "\n",
       "    .dataframe thead th {\n",
       "        text-align: right;\n",
       "    }\n",
       "</style>\n",
       "<table border=\"1\" class=\"dataframe\">\n",
       "  <thead>\n",
       "    <tr style=\"text-align: right;\">\n",
       "      <th></th>\n",
       "      <th>distance</th>\n",
       "      <th>temp</th>\n",
       "    </tr>\n",
       "  </thead>\n",
       "  <tbody>\n",
       "    <tr>\n",
       "      <th>0</th>\n",
       "      <td>47.0</td>\n",
       "      <td>33.43</td>\n",
       "    </tr>\n",
       "    <tr>\n",
       "      <th>1</th>\n",
       "      <td>357.0</td>\n",
       "      <td>34.69</td>\n",
       "    </tr>\n",
       "    <tr>\n",
       "      <th>2</th>\n",
       "      <td>121.0</td>\n",
       "      <td>34.18</td>\n",
       "    </tr>\n",
       "    <tr>\n",
       "      <th>3</th>\n",
       "      <td>250.0</td>\n",
       "      <td>34.81</td>\n",
       "    </tr>\n",
       "    <tr>\n",
       "      <th>4</th>\n",
       "      <td>8.0</td>\n",
       "      <td>32.79</td>\n",
       "    </tr>\n",
       "    <tr>\n",
       "      <th>5</th>\n",
       "      <td>315.0</td>\n",
       "      <td>34.31</td>\n",
       "    </tr>\n",
       "    <tr>\n",
       "      <th>6</th>\n",
       "      <td>71.0</td>\n",
       "      <td>33.85</td>\n",
       "    </tr>\n",
       "    <tr>\n",
       "      <th>7</th>\n",
       "      <td>200.0</td>\n",
       "      <td>33.92</td>\n",
       "    </tr>\n",
       "    <tr>\n",
       "      <th>8</th>\n",
       "      <td>14.0</td>\n",
       "      <td>32.81</td>\n",
       "    </tr>\n",
       "    <tr>\n",
       "      <th>9</th>\n",
       "      <td>37.0</td>\n",
       "      <td>32.74</td>\n",
       "    </tr>\n",
       "  </tbody>\n",
       "</table>\n",
       "</div>"
      ],
      "text/plain": [
       "   distance   temp\n",
       "0      47.0  33.43\n",
       "1     357.0  34.69\n",
       "2     121.0  34.18\n",
       "3     250.0  34.81\n",
       "4       8.0  32.79\n",
       "5     315.0  34.31\n",
       "6      71.0  33.85\n",
       "7     200.0  33.92\n",
       "8      14.0  32.81\n",
       "9      37.0  32.74"
      ]
     },
     "execution_count": 48,
     "metadata": {},
     "output_type": "execute_result"
    }
   ],
   "source": [
    "df"
   ]
  },
  {
   "cell_type": "markdown",
   "metadata": {},
   "source": [
    "使用支持向量机计算回归参数"
   ]
  },
  {
   "cell_type": "code",
   "execution_count": null,
   "metadata": {},
   "outputs": [],
   "source": [
    "# 获取数据\n",
    "# 选择模型\n",
    "# 训练模型\n",
    "# 预测数据"
   ]
  },
  {
   "cell_type": "code",
   "execution_count": 50,
   "metadata": {},
   "outputs": [],
   "source": [
    "# 使用线性回归模型\n",
    "from sklearn.linear_model import LinearRegression"
   ]
  },
  {
   "cell_type": "code",
   "execution_count": 74,
   "metadata": {},
   "outputs": [],
   "source": [
    "# 构建算法模型\n",
    "near = LinearRegression()\n",
    "# 训练机器学习模型\n",
    "# 训练【样本集】（自变量）必须是列向量\n",
    "near.fit(near_dists.reshape(-1,1),near_temps)\n",
    "\n",
    "# 获取预测数据\n",
    "near_test = np.linspace(near_dists.min()-10,near_dists.max()+10,100).reshape(-1,1)\n",
    "near_temps = near.predict(near_test)"
   ]
  },
  {
   "cell_type": "code",
   "execution_count": 75,
   "metadata": {},
   "outputs": [],
   "source": [
    "far = LinearRegression()\n",
    "far.fit(far_dists.reshape(-1,1),far_temps)\n",
    "far_test = np.linspace(far_dists.min()-10,far_dists.max()+10,100).reshape(-1,1)\n",
    "far_temps = far.predict(far_test)"
   ]
  },
  {
   "cell_type": "code",
   "execution_count": 76,
   "metadata": {},
   "outputs": [
    {
     "data": {
      "text/plain": [
       "<matplotlib.legend.Legend at 0x1d15713c978>"
      ]
     },
     "execution_count": 76,
     "metadata": {},
     "output_type": "execute_result"
    },
    {
     "data": {
      "image/png": "[encoded data removed]",
      "text/plain": [
       "<matplotlib.figure.Figure at 0x1d1560b2128>"
      ]
     },
     "metadata": {},
     "output_type": "display_data"
    }
   ],
   "source": [
    "plt.plot(near_test,near_temps,color='blue',label='near_predict')\n",
    "plt.plot(far_test,far_temps,color='green',label='far_predict')\n",
    "plt.scatter(distances,max_temps,color='red',label='true_data')\n",
    "plt.legend()"
   ]
  },
  {
   "cell_type": "markdown",
   "metadata": {
    "collapsed": true
   },
   "source": [
    "查看最低温度与海洋距离的关系"
   ]
  },
  {
   "cell_type": "markdown",
   "metadata": {},
   "source": [
    "最低湿度与海洋距离的关系"
   ]
  },
  {
   "cell_type": "markdown",
   "metadata": {},
   "source": [
    "最高湿度与海洋距离的关系"
   ]
  },
  {
   "cell_type": "markdown",
   "metadata": {},
   "source": [
    "平均湿度与海洋距离的关系"
   ]
  },
  {
   "cell_type": "markdown",
   "metadata": {},
   "source": [
    "思考：模仿最高温度，得到平均湿度与海洋距离的回归曲线"
   ]
  },
  {
   "cell_type": "markdown",
   "metadata": {},
   "source": [
    "风向与风速的关系"
   ]
  },
  {
   "cell_type": "markdown",
   "metadata": {},
   "source": [
    "在子图中，同时比较风向与湿度和风力的关系"
   ]
  },
  {
   "cell_type": "markdown",
   "metadata": {},
   "source": [
    "由于风向是360度，我们可以考虑使用玫瑰图（极坐标条形图）"
   ]
  },
  {
   "cell_type": "markdown",
   "metadata": {},
   "source": [
    "首先自定义一个画图函数"
   ]
  },
  {
   "cell_type": "markdown",
   "metadata": {},
   "source": [
    "用numpy创建一个直方图，将360度划分为8个面元，将数据分类到这8个面元中"
   ]
  },
  {
   "cell_type": "markdown",
   "metadata": {
    "collapsed": true
   },
   "source": [
    "计算米兰各个方向上的风速"
   ]
  },
  {
   "cell_type": "markdown",
   "metadata": {},
   "source": [
    "将各个方向的风速保存在列表中"
   ]
  },
  {
   "cell_type": "markdown",
   "metadata": {},
   "source": [
    "画出各个方向的风速"
   ]
  },
  {
   "cell_type": "markdown",
   "metadata": {},
   "source": [
    "将上面步骤写成函数"
   ]
  }
 ],
 "metadata": {
  "kernelspec": {
   "display_name": "Python 3",
   "language": "python",
   "name": "python3"
  },
  "language_info": {
   "codemirror_mode": {
    "name": "ipython",
    "version": 3
   },
   "file_extension": ".py",
   "mimetype": "text/x-python",
   "name": "python",
   "nbconvert_exporter": "python",
   "pygments_lexer": "ipython3",
   "version": "3.6.5"
  }
 },
 "nbformat": 4,
 "nbformat_minor": 1
}
